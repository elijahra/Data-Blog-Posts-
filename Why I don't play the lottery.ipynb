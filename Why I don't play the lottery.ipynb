{
 "cells": [
  {
   "cell_type": "markdown",
   "metadata": {},
   "source": [
    "# Biggest New York Lotteries In History"
   ]
  },
  {
   "cell_type": "markdown",
   "metadata": {},
   "source": [
    "In the summer of 2016 the New York Lottery's Power ball jack pot reached over 1-billion and the New York Megamillions reached 1.6 Billion dollars. Most people i knew brought a ticket \n",
    "\n",
    "I didn’t because I knew my chances of winning where incredibly slim. As a mathematician I calculated the odds of winning with the choice $5$ of $69$ white balls and $1$ of $26$ red balls the chance of winning the entire jack pot \n",
    "$$\\text{Probability of a winning ticket}  =\\frac{\\text{unique ticket number}}{\\text{number of possible ticket combiations}}$$\n",
    "\n",
    "$$ \\frac{1}{\\text{combinations of 5 regular balls} *\\text{combinations of 1 power ball}}= $$\n",
    "\n",
    "$$\\frac{1}{{69 \\choose 5} *{26 \\choose 1}} = \\frac{1}{292,201,338}. $$\n",
    " for the megamillions the probility of a winning ticket is \n",
    "$$\\frac{1}{{70 \\choose 5} *{25 \\choose 1}} = \\frac{1}{302,575,350}.$$\n",
    "\n",
    "\n",
    "\n",
    "\n",
    "After the jackpot had been won. I wasn’t surprised that nobody that I knew didn’t win but I still thought about whether or not it was possible to win the lottery using mathematics. I took a cryptography class in my undergrad and at the end of a lecture my professor told the class that there were some people who sat at a bar and figured it out about 20 years ago. I guess that was at the back of my mind when I went to get carbonated water from a local gas station there I noticed that Quick draw wasn’t a physical drawing and that it was computer generated. I had once heard that computer can’t really make completely random sequences because the sequences created are algorithm based. So I thought what if I use a computer to find some pattern in previous numbers to predict the next sequence of numbers. And thus I started this small project.\n"
   ]
  },
  {
   "cell_type": "markdown",
   "metadata": {},
   "source": [
    "# Odds of Winning Quick Draw and Win 4"
   ]
  },
  {
   "cell_type": "markdown",
   "metadata": {},
   "source": [
    "In additon to the quick draw lotto I also looked at Win4 which is also computer generated. First thinking about the odds of the game we must think about how the game is played. There are 20 number chosen from form 1-80 this means that the number of unique combinations of the numbers for quickdraw are\n",
    "\n",
    "\n",
    "$${80\\choose 20} = \\frac{80!}{20!(80-20)!} = 3.5353161*10^{18}$$\n",
    "\n",
    "this is about 3.5 quintillion combinations. Thats alot of combinations but you only need to get 10 numbers correct to win the jackpot of $100,000. The odd of you picking one corrct number is 20/80 continuing on the odds of you picking 10 correct numbers is \n",
    "\n",
    "$$\\left(\\frac{20}{80}\\right)\\left(\\frac{19}{79}\\right)\\dots\\left(\\frac{10}{70}\\right) = \\frac{17}{1,060,493,630}$$\n",
    "\n",
    "For the Win4 game the odds are different 4 numbers are chosen out of 10 but the numbers can repeat in a sequence so the tnumber of possible winning numbers is  \n",
    "\n",
    "$$10^4= 10,000$$\n",
    "Which in all honest isn alot of possble numbers but the pay max payout for this lottery isn't that large it is only $5000\n"
   ]
  },
  {
   "cell_type": "markdown",
   "metadata": {},
   "source": [
    "## Collecting/ Parsing the Data"
   ]
  },
  {
   "cell_type": "markdown",
   "metadata": {},
   "source": [
    "   I collected the winning numbers for quick draw and Win4 In a very crude way. First, I went to the New York State Lottery website https://nylottery.ny.gov/ then I sellected all the numbers and then just copy pasted the numbers into an the text editor Notepad. I knew that this would allow me to read the numbers individually in Python. I created the funtion $\\textit{Punctuation}$ to get rid of the dashes $\\text{('-')}$ between the numbers and replace them with spaces $\\text('~~')$. Having the Indivdiual numbers seperatated I could then count and plot numbers in a bar graph this is taken care of by the funtion $\\textit{plot_bar}$. A bar graph wpuld allow me to see the distribution of the numbers and see if the numbers are really random."
   ]
  },
  {
   "cell_type": "code",
   "execution_count": 2,
   "metadata": {},
   "outputs": [
    {
     "name": "stdout",
     "output_type": "stream",
     "text": [
      "Populating the interactive namespace from numpy and matplotlib\n"
     ]
    }
   ],
   "source": [
    "%pylab inline\n",
    "from collections import Counter # creates dictionaries that counts the number of times a key occurs\n",
    "from operator import itemgetter"
   ]
  },
  {
   "cell_type": "code",
   "execution_count": 3,
   "metadata": {},
   "outputs": [],
   "source": [
    "def load_book(filename):\n",
    "    fp = open(filename)#places \"Numbers\" in a file \n",
    "    res = fp.read()\n",
    "    fp.close()\n",
    "    return res #return what was read\n",
    "def Punctuation(x):\n",
    "    punctuation = '-'\n",
    "    for char in punctuation: # removes Punctuation\n",
    "        x  = x.replace(char,' ')\n",
    "    return (x)\n",
    "def number_counter(numbers):\n",
    "    numbercount = {}# dictionary that holds all the words as keys\n",
    "    for number in numbers:\n",
    "        if number in numbercount:\n",
    "            numbercount[number]+=1\n",
    "        else:\n",
    "            numbercount[number] = 1\n",
    "    return numbercount\n",
    "def get_count(x):\n",
    "    return x[1]\n",
    "def plot_bar(filename,scale):\n",
    "    data = load_book(filename)\n",
    "    data = Punctuation(data)\n",
    "    numbers = data.split()\n",
    "    numbers.sort()\n",
    "    counter = number_counter(numbers);\n",
    "    #sorted_words = sorted(counter.items(),key = get_count,reverse=True)\n",
    "    #counts = [pair[1] for pair in sorted_words]\n",
    "    \n",
    "    figure(figsize=(20,5))\n",
    "    \n",
    "    c = list(Counter(numbers).items())\n",
    "    #c.sort(key=itemgetter(1))\n",
    "    labels, values = zip(*c)\n",
    "    \n",
    "    indexes = arange(len(labels))\n",
    "    width = 0.8\n",
    "    \n",
    "    bar(indexes, values, width)\n",
    "    xticks(indexes + width * 0.5, labels)\n",
    "    \n",
    "    #ticks = [width/2 + i for i in range(81)] \n",
    "    #bar(range(80), freqs, fc='c', ec='b') \n",
    "    #xticks(ticks, number) \n",
    "    ylim(0, scale) \n",
    "    title('QDdistro') \n",
    "    xlabel('Numbers') \n",
    "    ylabel('Frequency') \n",
    "    return show() "
   ]
  },
  {
   "cell_type": "markdown",
   "metadata": {},
   "source": [
    "# Frequency for a Given Month "
   ]
  },
  {
   "cell_type": "markdown",
   "metadata": {},
   "source": [
    "## Checking If the computer Generated Numbers are really Ramdom"
   ]
  },
  {
   "cell_type": "markdown",
   "metadata": {},
   "source": [
    "So first I'd like to see how to pick my first number for quick draw and I like to see if there are any biases toward a specific number that will allow me to chose the number with the most chances of being correct. Although as you can see below ploting the data"
   ]
  },
  {
   "cell_type": "code",
   "execution_count": 7,
   "metadata": {},
   "outputs": [
    {
     "data": {
      "image/png": "[encoded data removed]",
      "text/plain": [
       "<Figure size 1440x360 with 1 Axes>"
      ]
     },
     "metadata": {
      "needs_background": "light"
     },
     "output_type": "display_data"
    }
   ],
   "source": [
    "plot_bar(\"QuickDraw(dec).txt\",1500) #this plots the distribution of numbers for  the month of Dec 2016"
   ]
  },
  {
   "cell_type": "markdown",
   "metadata": {},
   "source": [
    "# Freqency of a given Number over a month period"
   ]
  },
  {
   "cell_type": "code",
   "execution_count": null,
   "metadata": {
    "collapsed": true
   },
   "outputs": [],
   "source": []
  }
 ],
 "metadata": {
  "anaconda-cloud": {},
  "kernelspec": {
   "display_name": "Python 3",
   "language": "python",
   "name": "python3"
  },
  "language_info": {
   "codemirror_mode": {
    "name": "ipython",
    "version": 3
   },
   "file_extension": ".py",
   "mimetype": "text/x-python",
   "name": "python",
   "nbconvert_exporter": "python",
   "pygments_lexer": "ipython3",
   "version": "3.7.0"
  }
 },
 "nbformat": 4,
 "nbformat_minor": 1
}
